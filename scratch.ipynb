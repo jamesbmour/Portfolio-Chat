{
 "cells": [
  {
   "cell_type": "code",
   "execution_count": 18,
   "id": "initial_id",
   "metadata": {
    "collapsed": true,
    "ExecuteTime": {
     "end_time": "2024-02-20T22:43:34.242266469Z",
     "start_time": "2024-02-20T22:43:34.100999612Z"
    }
   },
   "outputs": [
    {
     "ename": "ModuleNotFoundError",
     "evalue": "No module named 'langchain_openai'",
     "output_type": "error",
     "traceback": [
      "\u001B[0;31m---------------------------------------------------------------------------\u001B[0m",
      "\u001B[0;31mModuleNotFoundError\u001B[0m                       Traceback (most recent call last)",
      "Cell \u001B[0;32mIn[18], line 5\u001B[0m\n\u001B[1;32m      3\u001B[0m \u001B[38;5;28;01mimport\u001B[39;00m \u001B[38;5;21;01mgetpass\u001B[39;00m\n\u001B[1;32m      4\u001B[0m \u001B[38;5;28;01mfrom\u001B[39;00m \u001B[38;5;21;01mlangchain_community\u001B[39;00m\u001B[38;5;21;01m.\u001B[39;00m\u001B[38;5;21;01mdocument_loaders\u001B[39;00m \u001B[38;5;28;01mimport\u001B[39;00m TextLoader\n\u001B[0;32m----> 5\u001B[0m \u001B[38;5;28;01mfrom\u001B[39;00m \u001B[38;5;21;01mlangchain_openai\u001B[39;00m \u001B[38;5;28;01mimport\u001B[39;00m OpenAIEmbeddings\n\u001B[1;32m      6\u001B[0m \u001B[38;5;28;01mfrom\u001B[39;00m \u001B[38;5;21;01mlangchain\u001B[39;00m\u001B[38;5;21;01m.\u001B[39;00m\u001B[38;5;21;01mtext_splitter\u001B[39;00m \u001B[38;5;28;01mimport\u001B[39;00m CharacterTextSplitter\n\u001B[1;32m      7\u001B[0m \u001B[38;5;28;01mfrom\u001B[39;00m \u001B[38;5;21;01mlangchain_community\u001B[39;00m\u001B[38;5;21;01m.\u001B[39;00m\u001B[38;5;21;01mvectorstores\u001B[39;00m \u001B[38;5;28;01mimport\u001B[39;00m LanceDB\n",
      "\u001B[0;31mModuleNotFoundError\u001B[0m: No module named 'langchain_openai'"
     ]
    }
   ],
   "source": [
    "import lancedb\n",
    "import os\n",
    "import getpass\n",
    "from langchain_community.document_loaders import TextLoader\n",
    "from langchain_openai import OpenAIEmbeddings\n",
    "from langchain.text_splitter import CharacterTextSplitter\n",
    "from langchain_community.vectorstores import LanceDB\n",
    "\n"
   ]
  },
  {
   "cell_type": "code",
   "outputs": [],
   "source": [
    "uri = \"../db/lance.db\"\n",
    "db = lancedb.connect(uri)"
   ],
   "metadata": {
    "collapsed": false,
    "ExecuteTime": {
     "end_time": "2024-02-20T22:40:11.081984991Z",
     "start_time": "2024-02-20T22:40:11.079642224Z"
    }
   },
   "id": "f04324acc08bd9af",
   "execution_count": 2
  },
  {
   "cell_type": "code",
   "outputs": [],
   "source": [
    "tbl = db.create_table(\"my_table\",\n",
    "                data=[{\"vector\": [3.1, 4.1], \"item\": \"foo\", \"price\": 10.0},\n",
    "                      {\"vector\": [5.9, 26.5], \"item\": \"bar\", \"price\": 20.0}])\n"
   ],
   "metadata": {
    "collapsed": false,
    "ExecuteTime": {
     "end_time": "2024-02-20T22:40:20.171181524Z",
     "start_time": "2024-02-20T22:40:20.129026365Z"
    }
   },
   "id": "85c652c5a48605a5",
   "execution_count": 3
  },
  {
   "cell_type": "code",
   "outputs": [],
   "source": [
    "import pandas as pd\n",
    "df = pd.DataFrame([{\"vector\": [3.1, 4.1], \"item\": \"foo\", \"price\": 10.0},\n",
    "                   {\"vector\": [5.9, 26.5], \"item\": \"bar\", \"price\": 20.0}])\n",
    "tbl = db.create_table(\"table_from_df\", data=df)"
   ],
   "metadata": {
    "collapsed": false,
    "ExecuteTime": {
     "end_time": "2024-02-20T22:40:29.693825993Z",
     "start_time": "2024-02-20T22:40:29.678780568Z"
    }
   },
   "id": "4464985e80e07a08",
   "execution_count": 4
  },
  {
   "cell_type": "code",
   "outputs": [],
   "source": [
    "import pyarrow as pa\n",
    "schema = pa.schema([pa.field(\"vector\", pa.list_(pa.float32(), list_size=2))])\n",
    "tbl = db.create_table(\"empty_table\", schema=schema)\n"
   ],
   "metadata": {
    "collapsed": false,
    "ExecuteTime": {
     "end_time": "2024-02-20T22:40:39.415748599Z",
     "start_time": "2024-02-20T22:40:39.410661614Z"
    }
   },
   "id": "e7f74464fa7af2d8",
   "execution_count": 5
  },
  {
   "cell_type": "code",
   "outputs": [],
   "source": [
    "tbl = db.open_table(\"my_table\")\n"
   ],
   "metadata": {
    "collapsed": false,
    "ExecuteTime": {
     "end_time": "2024-02-20T22:40:47.999073457Z",
     "start_time": "2024-02-20T22:40:47.958140025Z"
    }
   },
   "id": "d65b637343e16e5f",
   "execution_count": 6
  },
  {
   "cell_type": "code",
   "outputs": [
    {
     "name": "stdout",
     "output_type": "stream",
     "text": [
      "['empty_table', 'my_table', 'table_from_df']\n"
     ]
    }
   ],
   "source": [
    "print(db.table_names())\n"
   ],
   "metadata": {
    "collapsed": false,
    "ExecuteTime": {
     "end_time": "2024-02-20T22:40:53.900104240Z",
     "start_time": "2024-02-20T22:40:53.894357007Z"
    }
   },
   "id": "baa12ac80d72c732",
   "execution_count": 7
  },
  {
   "cell_type": "code",
   "outputs": [],
   "source": [
    "# Option 1: Add a list of dicts to a table\n",
    "data = [{\"vector\": [1.3, 1.4], \"item\": \"fizz\", \"price\": 100.0},\n",
    "        {\"vector\": [9.5, 56.2], \"item\": \"buzz\", \"price\": 200.0}]\n",
    "tbl.add(data)\n",
    "\n",
    "# Option 2: Add a pandas DataFrame to a table\n",
    "df = pd.DataFrame(data)\n",
    "tbl.add(data)\n"
   ],
   "metadata": {
    "collapsed": false,
    "ExecuteTime": {
     "end_time": "2024-02-20T22:42:02.492846894Z",
     "start_time": "2024-02-20T22:42:02.477248274Z"
    }
   },
   "id": "2b38c812dd9a7c5",
   "execution_count": 12
  },
  {
   "cell_type": "code",
   "outputs": [
    {
     "ename": "OSError",
     "evalue": "Io error: Execution error: External error: Execution error: LanceError(IO): Execution error: Failed to compute distances: LanceError(IO): Execution error: Not found: home/james/Dropbox/GIT/CS6795-Cognitive_Science/CS6795-Cognitive_Science_Code/pdf_chat-dev/db/lance.db/my_table.lance/data/d7c5c438-4445-4ba2-85d1-5eb95b120353.lance, /home/runner/work/lance/lance/rust/lance-io/src/local.rs:93:31, /home/runner/work/lance/lance/rust/lance/src/dataset/scanner.rs:1333:31, /home/runner/work/lance/lance/rust/lance/src/io/exec/take.rs:72:42",
     "output_type": "error",
     "traceback": [
      "\u001B[0;31m---------------------------------------------------------------------------\u001B[0m",
      "\u001B[0;31mOSError\u001B[0m                                   Traceback (most recent call last)",
      "Cell \u001B[0;32mIn[20], line 3\u001B[0m\n\u001B[1;32m      1\u001B[0m \u001B[38;5;66;03m# How to search for (approximate) nearest neighbors\u001B[39;00m\n\u001B[0;32m----> 3\u001B[0m \u001B[43mtbl\u001B[49m\u001B[38;5;241;43m.\u001B[39;49m\u001B[43msearch\u001B[49m\u001B[43m(\u001B[49m\u001B[43m[\u001B[49m\u001B[38;5;241;43m100\u001B[39;49m\u001B[43m,\u001B[49m\u001B[43m \u001B[49m\u001B[38;5;241;43m100\u001B[39;49m\u001B[43m]\u001B[49m\u001B[43m)\u001B[49m\u001B[38;5;241;43m.\u001B[39;49m\u001B[43mlimit\u001B[49m\u001B[43m(\u001B[49m\u001B[38;5;241;43m2\u001B[39;49m\u001B[43m)\u001B[49m\u001B[38;5;241;43m.\u001B[39;49m\u001B[43mto_pandas\u001B[49m\u001B[43m(\u001B[49m\u001B[43m)\u001B[49m\n",
      "File \u001B[0;32m~/miniconda3/envs/pdf310/lib/python3.10/site-packages/lancedb/query.py:228\u001B[0m, in \u001B[0;36mLanceQueryBuilder.to_pandas\u001B[0;34m(self, flatten)\u001B[0m\n\u001B[1;32m    213\u001B[0m \u001B[38;5;28;01mdef\u001B[39;00m \u001B[38;5;21mto_pandas\u001B[39m(\u001B[38;5;28mself\u001B[39m, flatten: Optional[Union[\u001B[38;5;28mint\u001B[39m, \u001B[38;5;28mbool\u001B[39m]] \u001B[38;5;241m=\u001B[39m \u001B[38;5;28;01mNone\u001B[39;00m) \u001B[38;5;241m-\u001B[39m\u001B[38;5;241m>\u001B[39m \u001B[38;5;124m\"\u001B[39m\u001B[38;5;124mpd.DataFrame\u001B[39m\u001B[38;5;124m\"\u001B[39m:\n\u001B[1;32m    214\u001B[0m \u001B[38;5;250m    \u001B[39m\u001B[38;5;124;03m\"\"\"\u001B[39;00m\n\u001B[1;32m    215\u001B[0m \u001B[38;5;124;03m    Execute the query and return the results as a pandas DataFrame.\u001B[39;00m\n\u001B[1;32m    216\u001B[0m \u001B[38;5;124;03m    In addition to the selected columns, LanceDB also returns a vector\u001B[39;00m\n\u001B[0;32m   (...)\u001B[0m\n\u001B[1;32m    226\u001B[0m \u001B[38;5;124;03m        If unspecified, do not flatten the nested columns.\u001B[39;00m\n\u001B[1;32m    227\u001B[0m \u001B[38;5;124;03m    \"\"\"\u001B[39;00m\n\u001B[0;32m--> 228\u001B[0m     tbl \u001B[38;5;241m=\u001B[39m \u001B[38;5;28;43mself\u001B[39;49m\u001B[38;5;241;43m.\u001B[39;49m\u001B[43mto_arrow\u001B[49m\u001B[43m(\u001B[49m\u001B[43m)\u001B[49m\n\u001B[1;32m    229\u001B[0m     \u001B[38;5;28;01mif\u001B[39;00m flatten \u001B[38;5;129;01mis\u001B[39;00m \u001B[38;5;28;01mTrue\u001B[39;00m:\n\u001B[1;32m    230\u001B[0m         \u001B[38;5;28;01mwhile\u001B[39;00m \u001B[38;5;28;01mTrue\u001B[39;00m:\n",
      "File \u001B[0;32m~/miniconda3/envs/pdf310/lib/python3.10/site-packages/lancedb/query.py:500\u001B[0m, in \u001B[0;36mLanceVectorQueryBuilder.to_arrow\u001B[0;34m(self)\u001B[0m\n\u001B[1;32m    487\u001B[0m     vector \u001B[38;5;241m=\u001B[39m [v\u001B[38;5;241m.\u001B[39mtolist() \u001B[38;5;28;01mfor\u001B[39;00m v \u001B[38;5;129;01min\u001B[39;00m vector]\n\u001B[1;32m    488\u001B[0m query \u001B[38;5;241m=\u001B[39m Query(\n\u001B[1;32m    489\u001B[0m     vector\u001B[38;5;241m=\u001B[39mvector,\n\u001B[1;32m    490\u001B[0m     \u001B[38;5;28mfilter\u001B[39m\u001B[38;5;241m=\u001B[39m\u001B[38;5;28mself\u001B[39m\u001B[38;5;241m.\u001B[39m_where,\n\u001B[0;32m   (...)\u001B[0m\n\u001B[1;32m    498\u001B[0m     with_row_id\u001B[38;5;241m=\u001B[39m\u001B[38;5;28mself\u001B[39m\u001B[38;5;241m.\u001B[39m_with_row_id,\n\u001B[1;32m    499\u001B[0m )\n\u001B[0;32m--> 500\u001B[0m \u001B[38;5;28;01mreturn\u001B[39;00m \u001B[38;5;28;43mself\u001B[39;49m\u001B[38;5;241;43m.\u001B[39;49m\u001B[43m_table\u001B[49m\u001B[38;5;241;43m.\u001B[39;49m\u001B[43m_execute_query\u001B[49m\u001B[43m(\u001B[49m\u001B[43mquery\u001B[49m\u001B[43m)\u001B[49m\n",
      "File \u001B[0;32m~/miniconda3/envs/pdf310/lib/python3.10/site-packages/lancedb/table.py:1456\u001B[0m, in \u001B[0;36mLanceTable._execute_query\u001B[0;34m(self, query)\u001B[0m\n\u001B[1;32m   1453\u001B[0m \u001B[38;5;28;01mdef\u001B[39;00m \u001B[38;5;21m_execute_query\u001B[39m(\u001B[38;5;28mself\u001B[39m, query: Query) \u001B[38;5;241m-\u001B[39m\u001B[38;5;241m>\u001B[39m pa\u001B[38;5;241m.\u001B[39mTable:\n\u001B[1;32m   1454\u001B[0m     ds \u001B[38;5;241m=\u001B[39m \u001B[38;5;28mself\u001B[39m\u001B[38;5;241m.\u001B[39mto_lance()\n\u001B[0;32m-> 1456\u001B[0m     \u001B[38;5;28;01mreturn\u001B[39;00m \u001B[43mds\u001B[49m\u001B[38;5;241;43m.\u001B[39;49m\u001B[43mto_table\u001B[49m\u001B[43m(\u001B[49m\n\u001B[1;32m   1457\u001B[0m \u001B[43m        \u001B[49m\u001B[43mcolumns\u001B[49m\u001B[38;5;241;43m=\u001B[39;49m\u001B[43mquery\u001B[49m\u001B[38;5;241;43m.\u001B[39;49m\u001B[43mcolumns\u001B[49m\u001B[43m,\u001B[49m\n\u001B[1;32m   1458\u001B[0m \u001B[43m        \u001B[49m\u001B[38;5;28;43mfilter\u001B[39;49m\u001B[38;5;241;43m=\u001B[39;49m\u001B[43mquery\u001B[49m\u001B[38;5;241;43m.\u001B[39;49m\u001B[43mfilter\u001B[49m\u001B[43m,\u001B[49m\n\u001B[1;32m   1459\u001B[0m \u001B[43m        \u001B[49m\u001B[43mprefilter\u001B[49m\u001B[38;5;241;43m=\u001B[39;49m\u001B[43mquery\u001B[49m\u001B[38;5;241;43m.\u001B[39;49m\u001B[43mprefilter\u001B[49m\u001B[43m,\u001B[49m\n\u001B[1;32m   1460\u001B[0m \u001B[43m        \u001B[49m\u001B[43mnearest\u001B[49m\u001B[38;5;241;43m=\u001B[39;49m\u001B[43m{\u001B[49m\n\u001B[1;32m   1461\u001B[0m \u001B[43m            \u001B[49m\u001B[38;5;124;43m\"\u001B[39;49m\u001B[38;5;124;43mcolumn\u001B[39;49m\u001B[38;5;124;43m\"\u001B[39;49m\u001B[43m:\u001B[49m\u001B[43m \u001B[49m\u001B[43mquery\u001B[49m\u001B[38;5;241;43m.\u001B[39;49m\u001B[43mvector_column\u001B[49m\u001B[43m,\u001B[49m\n\u001B[1;32m   1462\u001B[0m \u001B[43m            \u001B[49m\u001B[38;5;124;43m\"\u001B[39;49m\u001B[38;5;124;43mq\u001B[39;49m\u001B[38;5;124;43m\"\u001B[39;49m\u001B[43m:\u001B[49m\u001B[43m \u001B[49m\u001B[43mquery\u001B[49m\u001B[38;5;241;43m.\u001B[39;49m\u001B[43mvector\u001B[49m\u001B[43m,\u001B[49m\n\u001B[1;32m   1463\u001B[0m \u001B[43m            \u001B[49m\u001B[38;5;124;43m\"\u001B[39;49m\u001B[38;5;124;43mk\u001B[39;49m\u001B[38;5;124;43m\"\u001B[39;49m\u001B[43m:\u001B[49m\u001B[43m \u001B[49m\u001B[43mquery\u001B[49m\u001B[38;5;241;43m.\u001B[39;49m\u001B[43mk\u001B[49m\u001B[43m,\u001B[49m\n\u001B[1;32m   1464\u001B[0m \u001B[43m            \u001B[49m\u001B[38;5;124;43m\"\u001B[39;49m\u001B[38;5;124;43mmetric\u001B[39;49m\u001B[38;5;124;43m\"\u001B[39;49m\u001B[43m:\u001B[49m\u001B[43m \u001B[49m\u001B[43mquery\u001B[49m\u001B[38;5;241;43m.\u001B[39;49m\u001B[43mmetric\u001B[49m\u001B[43m,\u001B[49m\n\u001B[1;32m   1465\u001B[0m \u001B[43m            \u001B[49m\u001B[38;5;124;43m\"\u001B[39;49m\u001B[38;5;124;43mnprobes\u001B[39;49m\u001B[38;5;124;43m\"\u001B[39;49m\u001B[43m:\u001B[49m\u001B[43m \u001B[49m\u001B[43mquery\u001B[49m\u001B[38;5;241;43m.\u001B[39;49m\u001B[43mnprobes\u001B[49m\u001B[43m,\u001B[49m\n\u001B[1;32m   1466\u001B[0m \u001B[43m            \u001B[49m\u001B[38;5;124;43m\"\u001B[39;49m\u001B[38;5;124;43mrefine_factor\u001B[39;49m\u001B[38;5;124;43m\"\u001B[39;49m\u001B[43m:\u001B[49m\u001B[43m \u001B[49m\u001B[43mquery\u001B[49m\u001B[38;5;241;43m.\u001B[39;49m\u001B[43mrefine_factor\u001B[49m\u001B[43m,\u001B[49m\n\u001B[1;32m   1467\u001B[0m \u001B[43m        \u001B[49m\u001B[43m}\u001B[49m\u001B[43m,\u001B[49m\n\u001B[1;32m   1468\u001B[0m \u001B[43m        \u001B[49m\u001B[43mwith_row_id\u001B[49m\u001B[38;5;241;43m=\u001B[39;49m\u001B[43mquery\u001B[49m\u001B[38;5;241;43m.\u001B[39;49m\u001B[43mwith_row_id\u001B[49m\u001B[43m,\u001B[49m\n\u001B[1;32m   1469\u001B[0m \u001B[43m    \u001B[49m\u001B[43m)\u001B[49m\n",
      "File \u001B[0;32m~/miniconda3/envs/pdf310/lib/python3.10/site-packages/lance/dataset.py:410\u001B[0m, in \u001B[0;36mLanceDataset.to_table\u001B[0;34m(self, columns, filter, limit, offset, nearest, batch_size, batch_readahead, fragment_readahead, scan_in_order, prefilter, with_row_id, use_stats)\u001B[0m\n\u001B[1;32m    329\u001B[0m \u001B[38;5;28;01mdef\u001B[39;00m \u001B[38;5;21mto_table\u001B[39m(\n\u001B[1;32m    330\u001B[0m     \u001B[38;5;28mself\u001B[39m,\n\u001B[1;32m    331\u001B[0m     columns: Optional[\u001B[38;5;28mlist\u001B[39m[\u001B[38;5;28mstr\u001B[39m]] \u001B[38;5;241m=\u001B[39m \u001B[38;5;28;01mNone\u001B[39;00m,\n\u001B[0;32m   (...)\u001B[0m\n\u001B[1;32m    343\u001B[0m     use_stats: \u001B[38;5;28mbool\u001B[39m \u001B[38;5;241m=\u001B[39m \u001B[38;5;28;01mTrue\u001B[39;00m,\n\u001B[1;32m    344\u001B[0m ) \u001B[38;5;241m-\u001B[39m\u001B[38;5;241m>\u001B[39m pa\u001B[38;5;241m.\u001B[39mTable:\n\u001B[1;32m    345\u001B[0m \u001B[38;5;250m    \u001B[39m\u001B[38;5;124;03m\"\"\"Read the data into memory as a pyarrow Table.\u001B[39;00m\n\u001B[1;32m    346\u001B[0m \n\u001B[1;32m    347\u001B[0m \u001B[38;5;124;03m    Parameters\u001B[39;00m\n\u001B[0;32m   (...)\u001B[0m\n\u001B[1;32m    395\u001B[0m \u001B[38;5;124;03m    2. The results are filtered afterward, unless pre-filter sets to True.\u001B[39;00m\n\u001B[1;32m    396\u001B[0m \u001B[38;5;124;03m    \"\"\"\u001B[39;00m\n\u001B[1;32m    397\u001B[0m     \u001B[38;5;28;01mreturn\u001B[39;00m \u001B[38;5;28;43mself\u001B[39;49m\u001B[38;5;241;43m.\u001B[39;49m\u001B[43mscanner\u001B[49m\u001B[43m(\u001B[49m\n\u001B[1;32m    398\u001B[0m \u001B[43m        \u001B[49m\u001B[43mcolumns\u001B[49m\u001B[38;5;241;43m=\u001B[39;49m\u001B[43mcolumns\u001B[49m\u001B[43m,\u001B[49m\n\u001B[1;32m    399\u001B[0m \u001B[43m        \u001B[49m\u001B[38;5;28;43mfilter\u001B[39;49m\u001B[38;5;241;43m=\u001B[39;49m\u001B[38;5;28;43mfilter\u001B[39;49m\u001B[43m,\u001B[49m\n\u001B[1;32m    400\u001B[0m \u001B[43m        \u001B[49m\u001B[43mlimit\u001B[49m\u001B[38;5;241;43m=\u001B[39;49m\u001B[43mlimit\u001B[49m\u001B[43m,\u001B[49m\n\u001B[1;32m    401\u001B[0m \u001B[43m        \u001B[49m\u001B[43moffset\u001B[49m\u001B[38;5;241;43m=\u001B[39;49m\u001B[43moffset\u001B[49m\u001B[43m,\u001B[49m\n\u001B[1;32m    402\u001B[0m \u001B[43m        \u001B[49m\u001B[43mnearest\u001B[49m\u001B[38;5;241;43m=\u001B[39;49m\u001B[43mnearest\u001B[49m\u001B[43m,\u001B[49m\n\u001B[1;32m    403\u001B[0m \u001B[43m        \u001B[49m\u001B[43mbatch_size\u001B[49m\u001B[38;5;241;43m=\u001B[39;49m\u001B[43mbatch_size\u001B[49m\u001B[43m,\u001B[49m\n\u001B[1;32m    404\u001B[0m \u001B[43m        \u001B[49m\u001B[43mbatch_readahead\u001B[49m\u001B[38;5;241;43m=\u001B[39;49m\u001B[43mbatch_readahead\u001B[49m\u001B[43m,\u001B[49m\n\u001B[1;32m    405\u001B[0m \u001B[43m        \u001B[49m\u001B[43mfragment_readahead\u001B[49m\u001B[38;5;241;43m=\u001B[39;49m\u001B[43mfragment_readahead\u001B[49m\u001B[43m,\u001B[49m\n\u001B[1;32m    406\u001B[0m \u001B[43m        \u001B[49m\u001B[43mscan_in_order\u001B[49m\u001B[38;5;241;43m=\u001B[39;49m\u001B[43mscan_in_order\u001B[49m\u001B[43m,\u001B[49m\n\u001B[1;32m    407\u001B[0m \u001B[43m        \u001B[49m\u001B[43mprefilter\u001B[49m\u001B[38;5;241;43m=\u001B[39;49m\u001B[43mprefilter\u001B[49m\u001B[43m,\u001B[49m\n\u001B[1;32m    408\u001B[0m \u001B[43m        \u001B[49m\u001B[43mwith_row_id\u001B[49m\u001B[38;5;241;43m=\u001B[39;49m\u001B[43mwith_row_id\u001B[49m\u001B[43m,\u001B[49m\n\u001B[1;32m    409\u001B[0m \u001B[43m        \u001B[49m\u001B[43muse_stats\u001B[49m\u001B[38;5;241;43m=\u001B[39;49m\u001B[43muse_stats\u001B[49m\u001B[43m,\u001B[49m\n\u001B[0;32m--> 410\u001B[0m \u001B[43m    \u001B[49m\u001B[43m)\u001B[49m\u001B[38;5;241;43m.\u001B[39;49m\u001B[43mto_table\u001B[49m\u001B[43m(\u001B[49m\u001B[43m)\u001B[49m\n",
      "File \u001B[0;32m~/miniconda3/envs/pdf310/lib/python3.10/site-packages/lance/dataset.py:2051\u001B[0m, in \u001B[0;36mLanceScanner.to_table\u001B[0;34m(self)\u001B[0m\n\u001B[1;32m   2047\u001B[0m \u001B[38;5;28;01mdef\u001B[39;00m \u001B[38;5;21mto_table\u001B[39m(\u001B[38;5;28mself\u001B[39m) \u001B[38;5;241m-\u001B[39m\u001B[38;5;241m>\u001B[39m pa\u001B[38;5;241m.\u001B[39mTable:\n\u001B[1;32m   2048\u001B[0m \u001B[38;5;250m    \u001B[39m\u001B[38;5;124;03m\"\"\"\u001B[39;00m\n\u001B[1;32m   2049\u001B[0m \u001B[38;5;124;03m    Read the data into memory and return a pyarrow Table.\u001B[39;00m\n\u001B[1;32m   2050\u001B[0m \u001B[38;5;124;03m    \"\"\"\u001B[39;00m\n\u001B[0;32m-> 2051\u001B[0m     \u001B[38;5;28;01mreturn\u001B[39;00m \u001B[38;5;28;43mself\u001B[39;49m\u001B[38;5;241;43m.\u001B[39;49m\u001B[43mto_reader\u001B[49m\u001B[43m(\u001B[49m\u001B[43m)\u001B[49m\u001B[38;5;241;43m.\u001B[39;49m\u001B[43mread_all\u001B[49m\u001B[43m(\u001B[49m\u001B[43m)\u001B[49m\n",
      "File \u001B[0;32m~/miniconda3/envs/pdf310/lib/python3.10/site-packages/pyarrow/ipc.pxi:757\u001B[0m, in \u001B[0;36mpyarrow.lib.RecordBatchReader.read_all\u001B[0;34m()\u001B[0m\n",
      "File \u001B[0;32m~/miniconda3/envs/pdf310/lib/python3.10/site-packages/pyarrow/error.pxi:91\u001B[0m, in \u001B[0;36mpyarrow.lib.check_status\u001B[0;34m()\u001B[0m\n",
      "\u001B[0;31mOSError\u001B[0m: Io error: Execution error: External error: Execution error: LanceError(IO): Execution error: Failed to compute distances: LanceError(IO): Execution error: Not found: home/james/Dropbox/GIT/CS6795-Cognitive_Science/CS6795-Cognitive_Science_Code/pdf_chat-dev/db/lance.db/my_table.lance/data/d7c5c438-4445-4ba2-85d1-5eb95b120353.lance, /home/runner/work/lance/lance/rust/lance-io/src/local.rs:93:31, /home/runner/work/lance/lance/rust/lance/src/dataset/scanner.rs:1333:31, /home/runner/work/lance/lance/rust/lance/src/io/exec/take.rs:72:42"
     ]
    }
   ],
   "source": [
    "# How to search for (approximate) nearest neighbors\n",
    "\n",
    "tbl.search([100, 100]).limit(2).to_pandas()\n"
   ],
   "metadata": {
    "collapsed": false,
    "ExecuteTime": {
     "end_time": "2024-02-20T22:44:46.611670636Z",
     "start_time": "2024-02-20T22:44:46.517000446Z"
    }
   },
   "id": "3c704d9cf0c1c078",
   "execution_count": 20
  },
  {
   "cell_type": "code",
   "outputs": [],
   "source": [],
   "metadata": {
    "collapsed": false,
    "ExecuteTime": {
     "end_time": "2024-02-20T22:42:04.301423845Z",
     "start_time": "2024-02-20T22:42:04.296698778Z"
    }
   },
   "id": "9acf349f5f74290b",
   "execution_count": 13
  },
  {
   "cell_type": "code",
   "outputs": [
    {
     "ename": "OSError",
     "evalue": "LanceError(Index): KMeans: can not train 256 centroids with 10 vectors, choose a smaller K (< 10) instead, /home/runner/work/lance/lance/rust/lance-index/src/vector/kmeans.rs:45:21",
     "output_type": "error",
     "traceback": [
      "\u001B[0;31m---------------------------------------------------------------------------\u001B[0m",
      "\u001B[0;31mOSError\u001B[0m                                   Traceback (most recent call last)",
      "Cell \u001B[0;32mIn[14], line 1\u001B[0m\n\u001B[0;32m----> 1\u001B[0m \u001B[43mtbl\u001B[49m\u001B[38;5;241;43m.\u001B[39;49m\u001B[43mcreate_index\u001B[49m\u001B[43m(\u001B[49m\u001B[43m)\u001B[49m\n",
      "File \u001B[0;32m~/miniconda3/envs/pdf310/lib/python3.10/site-packages/lancedb/table.py:1018\u001B[0m, in \u001B[0;36mLanceTable.create_index\u001B[0;34m(self, metric, num_partitions, num_sub_vectors, vector_column_name, replace, accelerator, index_cache_size)\u001B[0m\n\u001B[1;32m   1007\u001B[0m \u001B[38;5;28;01mdef\u001B[39;00m \u001B[38;5;21mcreate_index\u001B[39m(\n\u001B[1;32m   1008\u001B[0m     \u001B[38;5;28mself\u001B[39m,\n\u001B[1;32m   1009\u001B[0m     metric\u001B[38;5;241m=\u001B[39m\u001B[38;5;124m\"\u001B[39m\u001B[38;5;124mL2\u001B[39m\u001B[38;5;124m\"\u001B[39m,\n\u001B[0;32m   (...)\u001B[0m\n\u001B[1;32m   1015\u001B[0m     index_cache_size: Optional[\u001B[38;5;28mint\u001B[39m] \u001B[38;5;241m=\u001B[39m \u001B[38;5;28;01mNone\u001B[39;00m,\n\u001B[1;32m   1016\u001B[0m ):\n\u001B[1;32m   1017\u001B[0m \u001B[38;5;250m    \u001B[39m\u001B[38;5;124;03m\"\"\"Create an index on the table.\"\"\"\u001B[39;00m\n\u001B[0;32m-> 1018\u001B[0m     \u001B[38;5;28;43mself\u001B[39;49m\u001B[38;5;241;43m.\u001B[39;49m\u001B[43m_dataset_mut\u001B[49m\u001B[38;5;241;43m.\u001B[39;49m\u001B[43mcreate_index\u001B[49m\u001B[43m(\u001B[49m\n\u001B[1;32m   1019\u001B[0m \u001B[43m        \u001B[49m\u001B[43mcolumn\u001B[49m\u001B[38;5;241;43m=\u001B[39;49m\u001B[43mvector_column_name\u001B[49m\u001B[43m,\u001B[49m\n\u001B[1;32m   1020\u001B[0m \u001B[43m        \u001B[49m\u001B[43mindex_type\u001B[49m\u001B[38;5;241;43m=\u001B[39;49m\u001B[38;5;124;43m\"\u001B[39;49m\u001B[38;5;124;43mIVF_PQ\u001B[39;49m\u001B[38;5;124;43m\"\u001B[39;49m\u001B[43m,\u001B[49m\n\u001B[1;32m   1021\u001B[0m \u001B[43m        \u001B[49m\u001B[43mmetric\u001B[49m\u001B[38;5;241;43m=\u001B[39;49m\u001B[43mmetric\u001B[49m\u001B[43m,\u001B[49m\n\u001B[1;32m   1022\u001B[0m \u001B[43m        \u001B[49m\u001B[43mnum_partitions\u001B[49m\u001B[38;5;241;43m=\u001B[39;49m\u001B[43mnum_partitions\u001B[49m\u001B[43m,\u001B[49m\n\u001B[1;32m   1023\u001B[0m \u001B[43m        \u001B[49m\u001B[43mnum_sub_vectors\u001B[49m\u001B[38;5;241;43m=\u001B[39;49m\u001B[43mnum_sub_vectors\u001B[49m\u001B[43m,\u001B[49m\n\u001B[1;32m   1024\u001B[0m \u001B[43m        \u001B[49m\u001B[43mreplace\u001B[49m\u001B[38;5;241;43m=\u001B[39;49m\u001B[43mreplace\u001B[49m\u001B[43m,\u001B[49m\n\u001B[1;32m   1025\u001B[0m \u001B[43m        \u001B[49m\u001B[43maccelerator\u001B[49m\u001B[38;5;241;43m=\u001B[39;49m\u001B[43maccelerator\u001B[49m\u001B[43m,\u001B[49m\n\u001B[1;32m   1026\u001B[0m \u001B[43m        \u001B[49m\u001B[43mindex_cache_size\u001B[49m\u001B[38;5;241;43m=\u001B[39;49m\u001B[43mindex_cache_size\u001B[49m\u001B[43m,\u001B[49m\n\u001B[1;32m   1027\u001B[0m \u001B[43m    \u001B[49m\u001B[43m)\u001B[49m\n\u001B[1;32m   1028\u001B[0m     register_event(\u001B[38;5;124m\"\u001B[39m\u001B[38;5;124mcreate_index\u001B[39m\u001B[38;5;124m\"\u001B[39m)\n",
      "File \u001B[0;32m~/miniconda3/envs/pdf310/lib/python3.10/site-packages/lance/dataset.py:1439\u001B[0m, in \u001B[0;36mLanceDataset.create_index\u001B[0;34m(self, column, index_type, name, metric, replace, num_partitions, ivf_centroids, pq_codebook, num_sub_vectors, accelerator, index_cache_size, shuffle_partition_batches, shuffle_partition_concurrency, **kwargs)\u001B[0m\n\u001B[1;32m   1436\u001B[0m \u001B[38;5;28;01mif\u001B[39;00m shuffle_partition_concurrency \u001B[38;5;129;01mis\u001B[39;00m \u001B[38;5;129;01mnot\u001B[39;00m \u001B[38;5;28;01mNone\u001B[39;00m:\n\u001B[1;32m   1437\u001B[0m     kwargs[\u001B[38;5;124m\"\u001B[39m\u001B[38;5;124mshuffle_partition_concurrency\u001B[39m\u001B[38;5;124m\"\u001B[39m] \u001B[38;5;241m=\u001B[39m shuffle_partition_concurrency\n\u001B[0;32m-> 1439\u001B[0m \u001B[38;5;28;43mself\u001B[39;49m\u001B[38;5;241;43m.\u001B[39;49m\u001B[43m_ds\u001B[49m\u001B[38;5;241;43m.\u001B[39;49m\u001B[43mcreate_index\u001B[49m\u001B[43m(\u001B[49m\u001B[43mcolumn\u001B[49m\u001B[43m,\u001B[49m\u001B[43m \u001B[49m\u001B[43mindex_type\u001B[49m\u001B[43m,\u001B[49m\u001B[43m \u001B[49m\u001B[43mname\u001B[49m\u001B[43m,\u001B[49m\u001B[43m \u001B[49m\u001B[43mreplace\u001B[49m\u001B[43m,\u001B[49m\u001B[43m \u001B[49m\u001B[43mkwargs\u001B[49m\u001B[43m)\u001B[49m\n\u001B[1;32m   1440\u001B[0m \u001B[38;5;28;01mreturn\u001B[39;00m LanceDataset(\u001B[38;5;28mself\u001B[39m\u001B[38;5;241m.\u001B[39muri, index_cache_size\u001B[38;5;241m=\u001B[39mindex_cache_size)\n",
      "\u001B[0;31mOSError\u001B[0m: LanceError(Index): KMeans: can not train 256 centroids with 10 vectors, choose a smaller K (< 10) instead, /home/runner/work/lance/lance/rust/lance-index/src/vector/kmeans.rs:45:21"
     ]
    }
   ],
   "source": [
    "tbl.create_index()\n"
   ],
   "metadata": {
    "collapsed": false,
    "ExecuteTime": {
     "end_time": "2024-02-20T22:42:06.194500983Z",
     "start_time": "2024-02-20T22:42:06.160541520Z"
    }
   },
   "id": "6495af32d62611e5",
   "execution_count": 14
  },
  {
   "cell_type": "code",
   "outputs": [],
   "source": [
    "tbl.delete('item = \"fizz\"')\n"
   ],
   "metadata": {
    "collapsed": false,
    "ExecuteTime": {
     "end_time": "2024-02-20T22:42:18.378977647Z",
     "start_time": "2024-02-20T22:42:18.336441504Z"
    }
   },
   "id": "65680af73549a5c0",
   "execution_count": 15
  },
  {
   "cell_type": "code",
   "outputs": [
    {
     "ename": "FileNotFoundError",
     "evalue": "[Errno 2] Cannot delete directory '/home/james/Dropbox/GIT/CS6795-Cognitive_Science/CS6795-Cognitive_Science_Code/pdf_chat-dev/src/../db/lance.db/my_table.lance': Cannot get information for path '/home/james/Dropbox/GIT/CS6795-Cognitive_Science/CS6795-Cognitive_Science_Code/pdf_chat-dev/src/../db/lance.db/my_table.lance'. Detail: [errno 2] No such file or directory",
     "output_type": "error",
     "traceback": [
      "\u001B[0;31m---------------------------------------------------------------------------\u001B[0m",
      "\u001B[0;31mFileNotFoundError\u001B[0m                         Traceback (most recent call last)",
      "Cell \u001B[0;32mIn[19], line 1\u001B[0m\n\u001B[0;32m----> 1\u001B[0m \u001B[43mdb\u001B[49m\u001B[38;5;241;43m.\u001B[39;49m\u001B[43mdrop_table\u001B[49m\u001B[43m(\u001B[49m\u001B[38;5;124;43m\"\u001B[39;49m\u001B[38;5;124;43mmy_table\u001B[39;49m\u001B[38;5;124;43m\"\u001B[39;49m\u001B[43m)\u001B[49m\n",
      "File \u001B[0;32m~/miniconda3/envs/pdf310/lib/python3.10/site-packages/lancedb/db.py:406\u001B[0m, in \u001B[0;36mLanceDBConnection.drop_table\u001B[0;34m(self, name, ignore_missing)\u001B[0m\n\u001B[1;32m    404\u001B[0m     filesystem, path \u001B[38;5;241m=\u001B[39m fs_from_uri(\u001B[38;5;28mself\u001B[39m\u001B[38;5;241m.\u001B[39muri)\n\u001B[1;32m    405\u001B[0m     table_path \u001B[38;5;241m=\u001B[39m join_uri(path, name \u001B[38;5;241m+\u001B[39m \u001B[38;5;124m\"\u001B[39m\u001B[38;5;124m.lance\u001B[39m\u001B[38;5;124m\"\u001B[39m)\n\u001B[0;32m--> 406\u001B[0m     \u001B[43mfilesystem\u001B[49m\u001B[38;5;241;43m.\u001B[39;49m\u001B[43mdelete_dir\u001B[49m\u001B[43m(\u001B[49m\u001B[43mtable_path\u001B[49m\u001B[43m)\u001B[49m\n\u001B[1;32m    407\u001B[0m \u001B[38;5;28;01mexcept\u001B[39;00m \u001B[38;5;167;01mFileNotFoundError\u001B[39;00m:\n\u001B[1;32m    408\u001B[0m     \u001B[38;5;28;01mif\u001B[39;00m \u001B[38;5;129;01mnot\u001B[39;00m ignore_missing:\n",
      "File \u001B[0;32m~/miniconda3/envs/pdf310/lib/python3.10/site-packages/pyarrow/_fs.pyx:616\u001B[0m, in \u001B[0;36mpyarrow._fs.FileSystem.delete_dir\u001B[0;34m()\u001B[0m\n",
      "File \u001B[0;32m~/miniconda3/envs/pdf310/lib/python3.10/site-packages/pyarrow/error.pxi:91\u001B[0m, in \u001B[0;36mpyarrow.lib.check_status\u001B[0;34m()\u001B[0m\n",
      "\u001B[0;31mFileNotFoundError\u001B[0m: [Errno 2] Cannot delete directory '/home/james/Dropbox/GIT/CS6795-Cognitive_Science/CS6795-Cognitive_Science_Code/pdf_chat-dev/src/../db/lance.db/my_table.lance': Cannot get information for path '/home/james/Dropbox/GIT/CS6795-Cognitive_Science/CS6795-Cognitive_Science_Code/pdf_chat-dev/src/../db/lance.db/my_table.lance'. Detail: [errno 2] No such file or directory"
     ]
    }
   ],
   "source": [
    "db.drop_table(\"my_table\")\n"
   ],
   "metadata": {
    "collapsed": false,
    "ExecuteTime": {
     "end_time": "2024-02-20T22:44:40.913616498Z",
     "start_time": "2024-02-20T22:44:40.863163290Z"
    }
   },
   "id": "b71a1e008b6ee2c4",
   "execution_count": 19
  },
  {
   "cell_type": "code",
   "outputs": [],
   "source": [
    "# Create embeddings\n",
    "embeddings = OpenAIEmbeddings()\n"
   ],
   "metadata": {
    "collapsed": false
   },
   "id": "b67f25e38d172b97"
  },
  {
   "cell_type": "code",
   "outputs": [
    {
     "ename": "NameError",
     "evalue": "name 'embeddings' is not defined",
     "output_type": "error",
     "traceback": [
      "\u001B[0;31m---------------------------------------------------------------------------\u001B[0m",
      "\u001B[0;31mNameError\u001B[0m                                 Traceback (most recent call last)",
      "Cell \u001B[0;32mIn[21], line 6\u001B[0m\n\u001B[1;32m      1\u001B[0m db \u001B[38;5;241m=\u001B[39m lancedb\u001B[38;5;241m.\u001B[39mconnect(\u001B[38;5;124m\"\u001B[39m\u001B[38;5;124m../db/lancedb\u001B[39m\u001B[38;5;124m\"\u001B[39m)\n\u001B[1;32m      2\u001B[0m table \u001B[38;5;241m=\u001B[39m db\u001B[38;5;241m.\u001B[39mcreate_table(\n\u001B[1;32m      3\u001B[0m     \u001B[38;5;124m\"\u001B[39m\u001B[38;5;124mmy_table\u001B[39m\u001B[38;5;124m\"\u001B[39m,\n\u001B[1;32m      4\u001B[0m     data\u001B[38;5;241m=\u001B[39m[\n\u001B[1;32m      5\u001B[0m         {\n\u001B[0;32m----> 6\u001B[0m             \u001B[38;5;124m\"\u001B[39m\u001B[38;5;124mvector\u001B[39m\u001B[38;5;124m\"\u001B[39m: \u001B[43membeddings\u001B[49m\u001B[38;5;241m.\u001B[39membed_query(\u001B[38;5;124m\"\u001B[39m\u001B[38;5;124mHello World\u001B[39m\u001B[38;5;124m\"\u001B[39m),\n\u001B[1;32m      7\u001B[0m             \u001B[38;5;124m\"\u001B[39m\u001B[38;5;124mtext\u001B[39m\u001B[38;5;124m\"\u001B[39m: \u001B[38;5;124m\"\u001B[39m\u001B[38;5;124mHello World\u001B[39m\u001B[38;5;124m\"\u001B[39m,\n\u001B[1;32m      8\u001B[0m             \u001B[38;5;124m\"\u001B[39m\u001B[38;5;124mid\u001B[39m\u001B[38;5;124m\"\u001B[39m: \u001B[38;5;124m\"\u001B[39m\u001B[38;5;124m1\u001B[39m\u001B[38;5;124m\"\u001B[39m,\n\u001B[1;32m      9\u001B[0m         }\n\u001B[1;32m     10\u001B[0m     ],\n\u001B[1;32m     11\u001B[0m     mode\u001B[38;5;241m=\u001B[39m\u001B[38;5;124m\"\u001B[39m\u001B[38;5;124moverwrite\u001B[39m\u001B[38;5;124m\"\u001B[39m,\n\u001B[1;32m     12\u001B[0m )\n\u001B[1;32m     14\u001B[0m \u001B[38;5;66;03m# Load the document, split it into chunks, embed each chunk and load it into the vector store.\u001B[39;00m\n\u001B[1;32m     15\u001B[0m raw_documents \u001B[38;5;241m=\u001B[39m TextLoader(\u001B[38;5;124m'\u001B[39m\u001B[38;5;124m../../../state_of_the_union.txt\u001B[39m\u001B[38;5;124m'\u001B[39m)\u001B[38;5;241m.\u001B[39mload()\n",
      "\u001B[0;31mNameError\u001B[0m: name 'embeddings' is not defined"
     ]
    }
   ],
   "source": [
    "\n",
    "\n",
    "db = lancedb.connect(\"../db/lancedb\")\n",
    "\n",
    "table = db.create_table(\n",
    "    \"my_table\",\n",
    "    data=[\n",
    "        {\n",
    "            \"vector\": embeddings.embed_query(\"Hello World\"),\n",
    "            \"text\": \"Hello World\",\n",
    "            \"id\": \"1\",\n",
    "        }\n",
    "    ],\n",
    "    mode=\"overwrite\",\n",
    ")\n",
    "\n",
    "# Load the document, split it into chunks, embed each chunk and load it into the vector store.\n",
    "raw_documents = TextLoader('../../../state_of_the_union.txt').load()\n",
    "text_splitter = CharacterTextSplitter(chunk_size=1000, chunk_overlap=0)\n",
    "documents = text_splitter.split_documents(raw_documents)\n",
    "db = LanceDB.from_documents(documents, OpenAIEmbeddings())\n",
    "\n"
   ],
   "metadata": {
    "collapsed": false,
    "ExecuteTime": {
     "end_time": "2024-02-20T22:45:27.530279425Z",
     "start_time": "2024-02-20T22:45:27.481156368Z"
    }
   },
   "id": "81625fa6a05064f5",
   "execution_count": 21
  },
  {
   "cell_type": "code",
   "outputs": [],
   "source": [
    "# Seach\n",
    "query = \"What did the president say about Ketanji Brown Jackson\"\n",
    "docs = db.similarity_search(query)\n",
    "print(docs[0].page_content)\n",
    "\n"
   ],
   "metadata": {
    "collapsed": false
   },
   "id": "141bdc654da7459e"
  }
 ],
 "metadata": {
  "kernelspec": {
   "display_name": "Python 3",
   "language": "python",
   "name": "python3"
  },
  "language_info": {
   "codemirror_mode": {
    "name": "ipython",
    "version": 2
   },
   "file_extension": ".py",
   "mimetype": "text/x-python",
   "name": "python",
   "nbconvert_exporter": "python",
   "pygments_lexer": "ipython2",
   "version": "2.7.6"
  }
 },
 "nbformat": 4,
 "nbformat_minor": 5
}
